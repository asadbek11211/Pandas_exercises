{
 "cells": [
  {
   "cell_type": "code",
   "execution_count": 2,
   "id": "ae7156d0",
   "metadata": {},
   "outputs": [],
   "source": [
    "import pandas as pd\n",
    "import numpy as np\n"
   ]
  },
  {
   "cell_type": "code",
   "execution_count": 32,
   "id": "e4a92864",
   "metadata": {},
   "outputs": [
    {
     "data": {
      "text/plain": [
       "0    4.0\n",
       "1    8.0\n",
       "2    9.0\n",
       "3   -7.0\n",
       "4    0.5\n",
       "dtype: float64"
      ]
     },
     "execution_count": 32,
     "metadata": {},
     "output_type": "execute_result"
    }
   ],
   "source": [
    "object = pd.Series([4,8,9,-7,0.5])\n",
    "object"
   ]
  },
  {
   "cell_type": "code",
   "execution_count": 33,
   "id": "1d6ff21c",
   "metadata": {},
   "outputs": [
    {
     "data": {
      "text/plain": [
       "a     2\n",
       "b     4\n",
       "c     6\n",
       "d     8\n",
       "e    10\n",
       "dtype: int64"
      ]
     },
     "execution_count": 33,
     "metadata": {},
     "output_type": "execute_result"
    }
   ],
   "source": [
    "arr = range(2,11,2)\n",
    "object = pd.Series(arr, index=['a','b','c','d','e'])\n",
    "object"
   ]
  },
  {
   "cell_type": "code",
   "execution_count": 15,
   "id": "2b7994f0",
   "metadata": {},
   "outputs": [
    {
     "data": {
      "text/plain": [
       "Index(['a', 'b', 'c', 'd', 'e'], dtype='object')"
      ]
     },
     "execution_count": 15,
     "metadata": {},
     "output_type": "execute_result"
    }
   ],
   "source": [
    "object.index"
   ]
  },
  {
   "cell_type": "code",
   "execution_count": 31,
   "id": "a20aca84",
   "metadata": {},
   "outputs": [
    {
     "data": {
      "text/plain": [
       "array([0, 0, 4, 0, 0, 4], dtype=int64)"
      ]
     },
     "execution_count": 31,
     "metadata": {},
     "output_type": "execute_result"
    }
   ],
   "source": [
    "object.values"
   ]
  },
  {
   "cell_type": "code",
   "execution_count": 18,
   "id": "12e06bb2",
   "metadata": {},
   "outputs": [
    {
     "data": {
      "text/plain": [
       "b     4\n",
       "e    10\n",
       "dtype: int64"
      ]
     },
     "execution_count": 18,
     "metadata": {},
     "output_type": "execute_result"
    }
   ],
   "source": [
    "object[['b','e']]"
   ]
  },
  {
   "cell_type": "code",
   "execution_count": 42,
   "id": "06e7ebef",
   "metadata": {},
   "outputs": [
    {
     "data": {
      "text/plain": [
       "a          2\n",
       "b          4\n",
       "c          6\n",
       "d          8\n",
       "e        100\n",
       "False     -1\n",
       "dtype: int64"
      ]
     },
     "execution_count": 42,
     "metadata": {},
     "output_type": "execute_result"
    }
   ],
   "source": [
    "object[object['e'] < 0] = -1\n",
    "object"
   ]
  },
  {
   "cell_type": "code",
   "execution_count": 43,
   "id": "557529f7",
   "metadata": {},
   "outputs": [
    {
     "data": {
      "text/plain": [
       "c      6\n",
       "d      8\n",
       "e    100\n",
       "dtype: int64"
      ]
     },
     "execution_count": 43,
     "metadata": {},
     "output_type": "execute_result"
    }
   ],
   "source": [
    "object[object > 5]"
   ]
  },
  {
   "cell_type": "code",
   "execution_count": 48,
   "id": "2e6aa603",
   "metadata": {},
   "outputs": [
    {
     "data": {
      "text/plain": [
       "-1"
      ]
     },
     "execution_count": 48,
     "metadata": {},
     "output_type": "execute_result"
    }
   ],
   "source": [
    "minn = np.min(object)\n",
    "minn"
   ]
  },
  {
   "cell_type": "markdown",
   "id": "9e8f59cb",
   "metadata": {},
   "source": [
    "maxx = np.max(object)\n",
    "object"
   ]
  },
  {
   "cell_type": "code",
   "execution_count": 50,
   "id": "f1014e17",
   "metadata": {},
   "outputs": [
    {
     "data": {
      "text/plain": [
       "100"
      ]
     },
     "execution_count": 50,
     "metadata": {},
     "output_type": "execute_result"
    }
   ],
   "source": [
    "maxx = np.max(object) \n",
    "maxx"
   ]
  },
  {
   "cell_type": "code",
   "execution_count": 51,
   "id": "7b733f7d",
   "metadata": {},
   "outputs": [
    {
     "data": {
      "text/plain": [
       "True"
      ]
     },
     "execution_count": 51,
     "metadata": {},
     "output_type": "execute_result"
    }
   ],
   "source": [
    "'c' in object"
   ]
  },
  {
   "cell_type": "code",
   "execution_count": 52,
   "id": "44715c9f",
   "metadata": {},
   "outputs": [
    {
     "data": {
      "text/plain": [
       "False"
      ]
     },
     "execution_count": 52,
     "metadata": {},
     "output_type": "execute_result"
    }
   ],
   "source": [
    "'l' in object"
   ]
  },
  {
   "cell_type": "code",
   "execution_count": 53,
   "id": "3e1cb8b2",
   "metadata": {},
   "outputs": [
    {
     "data": {
      "text/plain": [
       "{'Malibu': 40000,\n",
       " 'Lacetti': 20000,\n",
       " 'Toyota': 45000,\n",
       " 'Mazda': 52000,\n",
       " 'Honda': 38000}"
      ]
     },
     "execution_count": 53,
     "metadata": {},
     "output_type": "execute_result"
    }
   ],
   "source": [
    "cars_dict = {'Malibu':40000, 'Lacetti':20000, 'Toyota':45000, 'Mazda':52000, 'Honda':38000} # bu lug'at\n",
    "cars_dict"
   ]
  },
  {
   "cell_type": "code",
   "execution_count": 59,
   "id": "a7fdaa85",
   "metadata": {},
   "outputs": [
    {
     "data": {
      "text/plain": [
       "Malibu     40000\n",
       "Lacetti    20000\n",
       "Toyota     45000\n",
       "Mazda      52000\n",
       "Honda      38000\n",
       "dtype: int64"
      ]
     },
     "execution_count": 59,
     "metadata": {},
     "output_type": "execute_result"
    }
   ],
   "source": [
    "cars = pd.Series(cars_dict)\n",
    "cars"
   ]
  },
  {
   "cell_type": "code",
   "execution_count": 55,
   "id": "670b819b",
   "metadata": {},
   "outputs": [
    {
     "data": {
      "text/plain": [
       "40000"
      ]
     },
     "execution_count": 55,
     "metadata": {},
     "output_type": "execute_result"
    }
   ],
   "source": [
    "cars[0]"
   ]
  },
  {
   "cell_type": "code",
   "execution_count": 56,
   "id": "85940a63",
   "metadata": {},
   "outputs": [
    {
     "data": {
      "text/plain": [
       "52000"
      ]
     },
     "execution_count": 56,
     "metadata": {},
     "output_type": "execute_result"
    }
   ],
   "source": [
    "cars.loc['Mazda']"
   ]
  },
  {
   "cell_type": "code",
   "execution_count": 61,
   "id": "9e7d00e1",
   "metadata": {},
   "outputs": [
    {
     "data": {
      "text/plain": [
       "Tico           NaN\n",
       "Honda      38000.0\n",
       "Mazda      52000.0\n",
       "Jiguli         NaN\n",
       "Lacetti    20000.0\n",
       "Jaguar         NaN\n",
       "Malibu     40000.0\n",
       "Toyota     45000.0\n",
       "dtype: float64"
      ]
     },
     "execution_count": 61,
     "metadata": {},
     "output_type": "execute_result"
    }
   ],
   "source": [
    "models = ['Tico','Honda','Mazda','Jiguli','Lacetti','Jaguar','Malibu','Toyota']\n",
    "cars = pd.Series(cars_dict, index=models)\n",
    "cars"
   ]
  },
  {
   "cell_type": "code",
   "execution_count": 65,
   "id": "ab627fd6",
   "metadata": {},
   "outputs": [
    {
     "data": {
      "text/plain": [
       "Tico        True\n",
       "Honda      False\n",
       "Mazda      False\n",
       "Jiguli      True\n",
       "Lacetti    False\n",
       "Jaguar      True\n",
       "Malibu     False\n",
       "Toyota     False\n",
       "dtype: bool"
      ]
     },
     "execution_count": 65,
     "metadata": {},
     "output_type": "execute_result"
    }
   ],
   "source": [
    "cars.isnull()"
   ]
  },
  {
   "cell_type": "code",
   "execution_count": 67,
   "id": "e7357db8",
   "metadata": {},
   "outputs": [
    {
     "data": {
      "text/plain": [
       "Tico       False\n",
       "Honda       True\n",
       "Mazda       True\n",
       "Jiguli     False\n",
       "Lacetti     True\n",
       "Jaguar     False\n",
       "Malibu      True\n",
       "Toyota      True\n",
       "dtype: bool"
      ]
     },
     "execution_count": 67,
     "metadata": {},
     "output_type": "execute_result"
    }
   ],
   "source": [
    "cars.notnull()"
   ]
  },
  {
   "cell_type": "code",
   "execution_count": 68,
   "id": "2f5a7bb4",
   "metadata": {},
   "outputs": [
    {
     "data": {
      "text/plain": [
       "True"
      ]
     },
     "execution_count": 68,
     "metadata": {},
     "output_type": "execute_result"
    }
   ],
   "source": [
    "cars.hasnans"
   ]
  },
  {
   "cell_type": "code",
   "execution_count": 69,
   "id": "53567082",
   "metadata": {},
   "outputs": [
    {
     "data": {
      "text/plain": [
       "False"
      ]
     },
     "execution_count": 69,
     "metadata": {},
     "output_type": "execute_result"
    }
   ],
   "source": [
    "cars.is_unique"
   ]
  },
  {
   "cell_type": "code",
   "execution_count": 71,
   "id": "7bfd5d1a",
   "metadata": {},
   "outputs": [
    {
     "data": {
      "text/plain": [
       "pandas.core.series.Series"
      ]
     },
     "execution_count": 71,
     "metadata": {},
     "output_type": "execute_result"
    }
   ],
   "source": [
    "type(cars)"
   ]
  },
  {
   "cell_type": "code",
   "execution_count": 72,
   "id": "28afbb1e",
   "metadata": {},
   "outputs": [
    {
     "data": {
      "text/plain": [
       "dtype('float64')"
      ]
     },
     "execution_count": 72,
     "metadata": {},
     "output_type": "execute_result"
    }
   ],
   "source": [
    "cars.dtype"
   ]
  },
  {
   "cell_type": "code",
   "execution_count": 73,
   "id": "cc26467a",
   "metadata": {},
   "outputs": [
    {
     "data": {
      "text/plain": [
       "(8,)"
      ]
     },
     "execution_count": 73,
     "metadata": {},
     "output_type": "execute_result"
    }
   ],
   "source": [
    "cars.shape"
   ]
  },
  {
   "cell_type": "code",
   "execution_count": 74,
   "id": "8f453ea3",
   "metadata": {},
   "outputs": [
    {
     "data": {
      "text/plain": [
       "8"
      ]
     },
     "execution_count": 74,
     "metadata": {},
     "output_type": "execute_result"
    }
   ],
   "source": [
    "cars.size"
   ]
  },
  {
   "cell_type": "code",
   "execution_count": 75,
   "id": "70197386",
   "metadata": {},
   "outputs": [
    {
     "data": {
      "text/plain": [
       "nan"
      ]
     },
     "execution_count": 75,
     "metadata": {},
     "output_type": "execute_result"
    }
   ],
   "source": [
    "cars.iloc[3]"
   ]
  },
  {
   "cell_type": "code",
   "execution_count": 81,
   "id": "d9fa6f2b",
   "metadata": {},
   "outputs": [
    {
     "data": {
      "text/plain": [
       "52000.0"
      ]
     },
     "execution_count": 81,
     "metadata": {},
     "output_type": "execute_result"
    }
   ],
   "source": [
    "cars.loc['Mazda']"
   ]
  },
  {
   "cell_type": "code",
   "execution_count": 82,
   "id": "cf9ddcaa",
   "metadata": {},
   "outputs": [
    {
     "data": {
      "text/plain": [
       "39000.0"
      ]
     },
     "execution_count": 82,
     "metadata": {},
     "output_type": "execute_result"
    }
   ],
   "source": [
    "cars.mean()"
   ]
  },
  {
   "cell_type": "code",
   "execution_count": null,
   "id": "86bad393",
   "metadata": {},
   "outputs": [],
   "source": []
  }
 ],
 "metadata": {
  "kernelspec": {
   "display_name": "Python 3 (ipykernel)",
   "language": "python",
   "name": "python3"
  },
  "language_info": {
   "codemirror_mode": {
    "name": "ipython",
    "version": 3
   },
   "file_extension": ".py",
   "mimetype": "text/x-python",
   "name": "python",
   "nbconvert_exporter": "python",
   "pygments_lexer": "ipython3",
   "version": "3.9.16"
  }
 },
 "nbformat": 4,
 "nbformat_minor": 5
}
